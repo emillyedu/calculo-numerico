{
  "nbformat": 4,
  "nbformat_minor": 0,
  "metadata": {
    "colab": {
      "provenance": []
    },
    "kernelspec": {
      "name": "python3",
      "display_name": "Python 3"
    },
    "language_info": {
      "name": "python"
    }
  },
  "cells": [
    {
      "cell_type": "markdown",
      "source": [
        "# AVALIAÇÃO DE CALCULO NUMÉRICO - Respostas\n",
        "\n",
        "### Aluna:Êmilly Eduarda\n"
      ],
      "metadata": {
        "id": "I7xo8pvUXQBA"
      }
    },
    {
      "cell_type": "code",
      "source": [
        "import numpy as np"
      ],
      "metadata": {
        "id": "CNn6zs_aaUT-"
      },
      "execution_count": null,
      "outputs": []
    },
    {
      "cell_type": "markdown",
      "source": [
        "## QUESTÃO 1\n",
        "\n",
        "a11 = 110.4 e a33=151.3\n",
        "\n",
        "\n",
        "i) A é inversível:\n",
        "Para ser inversível, a matriz deve ter determinante diferente de zero.\n",
        "No código, usei np.linalg.det(A) para calcular a determinante de e verifica-lo.\n",
        "\n",
        "ii) A possui duas soluções:\n",
        "pode ser visto pela comparação entre o posto da matriz e o número de incógnitas. Caso o posto for menor do que o número de incógnitas, pode ter mais de uma solução.\n",
        "Usei np.linalg.matrix_rank(A) para calcular o posto da matriz A e comparar com o número de colunas de A (A.shape[1]).\n",
        "\n",
        "iii) A tem ordem 3, por ser de posto deficiente:\n",
        "Se o posto de A for menor do que o número de colunas, a matriz tem posto deficiente.\n",
        "Usei de novo o np.linalg.matrix_rank(A) para calcular o posto de A e comparar com o número mínimo entre o número de linhas e colunas de A (min(A.shape)).\n",
        "\n",
        ".\n",
        "\n",
        ".\n",
        "\n",
        "\n",
        "###SOLUÇÃO: A) APENAS I É CORRETO"
      ],
      "metadata": {
        "id": "7NaHhBDYY7Wn"
      }
    },
    {
      "cell_type": "code",
      "execution_count": null,
      "metadata": {
        "colab": {
          "base_uri": "https://localhost:8080/"
        },
        "id": "cslRupxhEL4Q",
        "outputId": "d191bd33-9b67-4bf0-fdd0-875749f7e27b"
      },
      "outputs": [
        {
          "output_type": "stream",
          "name": "stdout",
          "text": [
            "i) A é inversível: True\n",
            "ii) A possui duas soluções: False\n",
            "iii) A tem ordem 3, por ser de posto deficiente: False\n"
          ]
        }
      ],
      "source": [
        "A = np.array([[110.4, 7.0, 7.5, 7.0],\n",
        "              [1.0, 2.5, 1.0, 1.0],\n",
        "              [8.5, 8.0, 151.3, 7.5],\n",
        "              [8.5, 9.0, 8.0, 7.0]])\n",
        "\n",
        "b = np.array([207, 52, 272, 282])\n",
        "c = np.array([394, 106, 497, 491])\n",
        "\n",
        "is_invertible = np.linalg.det(A) != 0\n",
        "has_two_solutions = np.linalg.matrix_rank(A) < A.shape[1]\n",
        "has_deficient_rank = np.linalg.matrix_rank(A) < min(A.shape)\n",
        "\n",
        "print(\"i) A é inversível:\", is_invertible)\n",
        "print(\"ii) A possui duas soluções:\", has_two_solutions)\n",
        "print(\"iii) A tem ordem 3, por ser de posto deficiente:\", has_deficient_rank)"
      ]
    },
    {
      "cell_type": "markdown",
      "source": [
        "#QUESTÃO 2\n",
        "\n",
        "achar o terceiro componente de x requer que calcule o sistema ax = c-b\n",
        "Calculei usando solve no código abaixo.\n",
        "\n",
        ".\n",
        "\n",
        ".\n",
        "\n",
        "\n",
        "###SOLUÇÃO: A terceira componente de x é: 0.23779212681585649"
      ],
      "metadata": {
        "id": "tVrwlm8SFGbX"
      }
    },
    {
      "cell_type": "code",
      "source": [
        "A = np.array([[110.4, 7.0, 7.5, 7.0],\n",
        "              [1.0, 2.5, 1.0, 1.0],\n",
        "              [8.5, 8.0, 151.3, 7.5],\n",
        "              [8.5, 9.0, 8.0, 7.0]])\n",
        "\n",
        "b = np.array([207, 52, 272, 282])\n",
        "c = np.array([394, 106, 497, 491])\n",
        "\n",
        "x = np.linalg.solve(A, c - b)\n",
        "\n",
        "print(\"A terceira componente de x é:\", x[2])"
      ],
      "metadata": {
        "colab": {
          "base_uri": "https://localhost:8080/"
        },
        "id": "68NZfPMUEuzI",
        "outputId": "392099e3-dbb2-4545-ae99-2291e0e574e7"
      },
      "execution_count": null,
      "outputs": [
        {
          "output_type": "stream",
          "name": "stdout",
          "text": [
            "A terceira componente de x é: 0.23779212681585649\n"
          ]
        }
      ]
    },
    {
      "cell_type": "markdown",
      "source": [
        "#QUESTÃO 3\n",
        "quadrado = 303.9\n",
        "\n",
        "primeiro precisa resolver o sistema linear\n",
        "(U+D+U^T)x=b\n",
        "\n",
        "Após resolver o sistema linear, obtem-se as temperaturas nos 9 pontos. Então, soma-se as temperaturas nos pontos 1, 5 e 9 para encontrar T1 + T5 + T9\n",
        "\n",
        ".\n",
        "\n",
        ".\n",
        "\n",
        "###SOLUÇÃO: T1 + T5 + T9 = 226.46249999999998"
      ],
      "metadata": {
        "id": "PY0DA3KBaz7p"
      }
    },
    {
      "cell_type": "code",
      "source": [
        "U = np.array([\n",
        "    [0, -1, 0, -1, 0, 0, 0, 0, 0],\n",
        "    [0, 0, -1, 0, -1, 0, 0, 0, 0],\n",
        "    [0, 0, 0, 0, 0, -1, 0, 0, 0],\n",
        "    [0, 0, 0, 0, -1, 0, -1, 0, 0],\n",
        "    [0, 0, 0, 0, 0, -1, 0, -1, 0],\n",
        "    [0, 0, 0, 0, 0, 0, 0, 0, -1],\n",
        "    [0, 0, 0, 0, 0, 0, 0, -1, 0],\n",
        "    [0, 0, 0, 0, 0, 0, 0, 0, -1],\n",
        "    [0, 0, 0, 0, 0, 0, 0, 0, 0]\n",
        "])\n",
        "\n",
        "D = np.diag([4] * 9)\n",
        "\n",
        "b = np.array([0, 0, 100, 0, 0, 100, 200, 200, 303.9])\n",
        "\n",
        "x = np.linalg.solve(U + D + U.T, b)\n",
        "\n",
        "T1_T5_T9 = x[0] + x[4] + x[8]\n",
        "\n",
        "print(\"T1 + T5 + T9 =\", T1_T5_T9)"
      ],
      "metadata": {
        "colab": {
          "base_uri": "https://localhost:8080/"
        },
        "id": "BY-jSqCgLQ5C",
        "outputId": "d226e059-4ad9-404b-b36c-a816911e22dc"
      },
      "execution_count": null,
      "outputs": [
        {
          "output_type": "stream",
          "name": "stdout",
          "text": [
            "T1 + T5 + T9 = 226.46249999999998\n"
          ]
        }
      ]
    },
    {
      "cell_type": "markdown",
      "source": [
        "#QUESTÃO 4\n",
        "\n",
        "para determinar a, b e R, primeiro descobre F, depois a Jacobiana e por fim usa o método de newton para sistemas não lineares. Criei 3 funções, uma para cada processo, usando os pontos fornecidos, a equação e o estado inicial.\n",
        "\n",
        "###SOLUÇÃO: a = 4.855662252840953, b = 3.9884782766106155, R = 5.226481814988251"
      ],
      "metadata": {
        "id": "kkWCPxtfMfrk"
      }
    },
    {
      "cell_type": "code",
      "source": [
        "points = np.array([[8.475, 0.218],\n",
        "                   [0.34, 6.62],\n",
        "                   [5.96, -1.12]])\n",
        "\n",
        "def F(params):\n",
        "    '''Calcula o vetor de função F(a, b, R) para o sistema não linear.\n",
        "\n",
        "    Entrada:\n",
        "        params: vetor de parâmetros [a, b, R]\n",
        "\n",
        "    Saída:\n",
        "        Vetor de função F(a, b, R)\n",
        "    '''\n",
        "    a, b, R = params\n",
        "    return np.array([(point[0] - a)**2 + (point[1] - b)**2 - R**2 for point in points])\n",
        "\n",
        "def J(params):\n",
        "    '''Calcula a matriz jacobiana J(a, b, R) para o sistema não linear.\n",
        "\n",
        "    Entrada:\n",
        "        params: vetor de parâmetros [a, b, R]\n",
        "\n",
        "    Saída:\n",
        "        Matriz jacobiana J(a, b, R)\n",
        "    '''\n",
        "    a, b, R = params\n",
        "    jac = []\n",
        "    for point in points:\n",
        "        jac.append([-2*(point[0] - a), -2*(point[1] - b), -2*R])\n",
        "    return np.array(jac)\n",
        "\n",
        "def newton_method(F, J, x0, erro=1e-6):\n",
        "    '''Calcula a solução de um sistema não linear usando o método de Newton.\n",
        "\n",
        "    Entradas:\n",
        "        F: função que calcula o vetor de função\n",
        "        J: função que calcula a matriz jacobiana\n",
        "        x0: vetor de estimativa inicial\n",
        "        erro: tolerância para o critério de parada\n",
        "\n",
        "    Saída:\n",
        "        Vetor solução do sistema não linear\n",
        "    '''\n",
        "    x = x0.astype(float)\n",
        "\n",
        "    for _ in range(100):\n",
        "        delta_x = np.linalg.solve(J(x), -F(x))\n",
        "        x += delta_x\n",
        "        if np.linalg.norm(delta_x) < erro:\n",
        "            return x\n",
        "    raise ValueError(\"O método de Newton não convergiu.\")\n",
        "\n",
        "x0 = np.array([1.0, 1.0, 1.0])\n",
        "\n",
        "solution = newton_method(F, J, x0)\n",
        "a, b, R = solution\n",
        "\n",
        "print(\"a =\", a)\n",
        "print(\"b =\", b)\n",
        "print(\"R =\", R)"
      ],
      "metadata": {
        "colab": {
          "base_uri": "https://localhost:8080/"
        },
        "id": "BiwRsfhvS49p",
        "outputId": "1431cca1-20a8-42c4-b4e2-7207ef6482ce"
      },
      "execution_count": null,
      "outputs": [
        {
          "output_type": "stream",
          "name": "stdout",
          "text": [
            "a = 4.855662252840953\n",
            "b = 3.9884782766106155\n",
            "R = 5.226481814988251\n"
          ]
        }
      ]
    }
  ]
}
