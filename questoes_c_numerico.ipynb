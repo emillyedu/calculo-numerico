{
  "nbformat": 4,
  "nbformat_minor": 0,
  "metadata": {
    "colab": {
      "provenance": []
    },
    "kernelspec": {
      "name": "python3",
      "display_name": "Python 3"
    },
    "language_info": {
      "name": "python"
    }
  },
  "cells": [
    {
      "cell_type": "markdown",
      "source": [
        "![image.png](data:image/png;base64,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)"
      ],
      "metadata": {
        "id": "0Sxyt_mGT6P8"
      }
    },
    {
      "cell_type": "code",
      "source": [
        "from numpy.linalg import solve\n",
        "import numpy as np\n",
        "\n",
        "R = [5.,10.,15.]\n",
        "\n",
        "# montagem do sistema\n",
        "def resolve_sistema(R):\n",
        "    A = np.array([ [50+R,-R,-30],[-R,65+R,-15],[-30,-15,45] ])\n",
        "    b = np.array([0,0,120])\n",
        "    x = solve(A,b)\n",
        "    return x\n",
        "\n",
        "# salva soluções agrupadas em um dicionário\n",
        "sols = {}\n",
        "for r in R:\n",
        "    sols[r] = resolve_sistema(r)\n",
        "    print('Para o valor de resistência R = {0:g} ohms: i1 = {1:g} A, i2 = {2:g} A, i3 = {3:g} A'.format(r, sols[r][0], sols[r][1], sols[r][2]))"
      ],
      "metadata": {
        "colab": {
          "base_uri": "https://localhost:8080/"
        },
        "id": "helT5NqqT54M",
        "outputId": "726d8148-e553-4ea4-f000-fde74c9f82a4"
      },
      "execution_count": null,
      "outputs": [
        {
          "output_type": "stream",
          "name": "stdout",
          "text": [
            "Para o valor de resistência R = 5 ohms: i1 = 2.82927 A, i2 = 1.26829 A, i3 = 4.97561 A\n",
            "Para o valor de resistência R = 10 ohms: i1 = 2.66667 A, i2 = 1.33333 A, i3 = 4.88889 A\n",
            "Para o valor de resistência R = 15 ohms: i1 = 2.54545 A, i2 = 1.38182 A, i3 = 4.82424 A\n"
          ]
        }
      ]
    },
    {
      "cell_type": "code",
      "source": [
        "R = 10.\n",
        "D = np.array([ [50+R,-R,-30],[-R,65+R,-15],[-30,-15,45] ])\n",
        "b = np.array([0,0,120])\n",
        "\n",
        "# fator\n",
        "L = cholesky(D)\n",
        "\n",
        "# passo 1\n",
        "# Ly = b\n",
        "y = solve(L,b)\n",
        "\n",
        "# passo 2\n",
        "# L^T x = y\n",
        "x = solve(L.T,y)\n",
        "\n",
        "# solução\n",
        "x"
      ],
      "metadata": {
        "colab": {
          "base_uri": "https://localhost:8080/"
        },
        "id": "5ZtE43lRUYB-",
        "outputId": "1b1e9994-7eca-4a07-cdb3-c85761d325a7"
      },
      "execution_count": null,
      "outputs": [
        {
          "output_type": "execute_result",
          "data": {
            "text/plain": [
              "array([2.66666667, 1.33333333, 4.88888889])"
            ]
          },
          "metadata": {},
          "execution_count": 13
        }
      ]
    },
    {
      "cell_type": "code",
      "source": [
        "x, sols[10] #comparando resultados"
      ],
      "metadata": {
        "colab": {
          "base_uri": "https://localhost:8080/"
        },
        "id": "nBZVgASQUwVP",
        "outputId": "bd90da84-fc08-4815-befd-a1fd934d9b54"
      },
      "execution_count": null,
      "outputs": [
        {
          "output_type": "execute_result",
          "data": {
            "text/plain": [
              "(array([2.66666667, 1.33333333, 4.88888889]),\n",
              " array([2.66666667, 1.33333333, 4.88888889]))"
            ]
          },
          "metadata": {},
          "execution_count": 14
        }
      ]
    },
    {
      "cell_type": "markdown",
      "source": [
        "##Calcule o fator de Cholesky para a matriz\n"
      ],
      "metadata": {
        "id": "rn253o9jRasW"
      }
    },
    {
      "cell_type": "code",
      "source": [
        "from numpy.linalg import cholesky\n",
        "import numpy as np"
      ],
      "metadata": {
        "id": "IGQ9toEfRZeB"
      },
      "execution_count": null,
      "outputs": []
    },
    {
      "cell_type": "code",
      "execution_count": null,
      "metadata": {
        "colab": {
          "base_uri": "https://localhost:8080/"
        },
        "id": "F9AtPTOcRXKF",
        "outputId": "84b2d5ae-7ee3-456d-c922-32c5b3daed64"
      },
      "outputs": [
        {
          "output_type": "execute_result",
          "data": {
            "text/plain": [
              "array([[ 7.41619849,  0.        ,  0.        ],\n",
              "       [-0.67419986,  8.33939174,  0.        ],\n",
              "       [-4.04519917, -2.12572731,  4.91097211]])"
            ]
          },
          "metadata": {},
          "execution_count": 5
        }
      ],
      "source": [
        "R = 5.\n",
        "B = np.array([ [50+R,-R,-30],[-R,65+R,-15],[-30,-15,45] ])\n",
        "\n",
        "L = cholesky(B)\n",
        "L #FATOR DE DECOMPOSICAO CHOLESKY"
      ]
    },
    {
      "cell_type": "code",
      "source": [
        "#DECOMPOSICAO CHOLESKY\n",
        "np.matmul(L,L.T)"
      ],
      "metadata": {
        "colab": {
          "base_uri": "https://localhost:8080/"
        },
        "id": "Xs4TzzSSRweU",
        "outputId": "f1a29dbc-07e0-413d-f5e5-6885424cd998"
      },
      "execution_count": null,
      "outputs": [
        {
          "output_type": "execute_result",
          "data": {
            "text/plain": [
              "array([[ 55.,  -5., -30.],\n",
              "       [ -5.,  70., -15.],\n",
              "       [-30., -15.,  45.]])"
            ]
          },
          "metadata": {},
          "execution_count": 6
        }
      ]
    },
    {
      "cell_type": "code",
      "source": [
        "B"
      ],
      "metadata": {
        "colab": {
          "base_uri": "https://localhost:8080/"
        },
        "id": "gjP83BgpR28n",
        "outputId": "282aa5f2-88ac-4ae9-be2b-65128329be71"
      },
      "execution_count": null,
      "outputs": [
        {
          "output_type": "execute_result",
          "data": {
            "text/plain": [
              "array([[ 55.,  -5., -30.],\n",
              "       [ -5.,  70., -15.],\n",
              "       [-30., -15.,  45.]])"
            ]
          },
          "metadata": {},
          "execution_count": 7
        }
      ]
    },
    {
      "cell_type": "code",
      "source": [
        "# A MATRIZ É SIMETRICA QUANDO A DECOMPOSIÇAO É == A MATRIZ ORIGINAL\n",
        "B == np.matmul(L,L.T)"
      ],
      "metadata": {
        "colab": {
          "base_uri": "https://localhost:8080/"
        },
        "id": "cU03QWq3SHsl",
        "outputId": "682887b2-abca-431e-8441-e3a218fc8fd5"
      },
      "execution_count": null,
      "outputs": [
        {
          "output_type": "execute_result",
          "data": {
            "text/plain": [
              "array([[ True, False,  True],\n",
              "       [False,  True, False],\n",
              "       [ True, False, False]])"
            ]
          },
          "metadata": {},
          "execution_count": 8
        }
      ]
    },
    {
      "cell_type": "markdown",
      "source": [
        "##Verificar se uma matriz simétrica é positiva definida."
      ],
      "metadata": {
        "id": "umu5VTalTW-T"
      }
    },
    {
      "cell_type": "code",
      "source": [
        "# cria outra matriz simétrica\n",
        "D = np.tril(B) + 1\n",
        "D = np.tril(D) + np.tril(D,-1).T\n",
        "D"
      ],
      "metadata": {
        "colab": {
          "base_uri": "https://localhost:8080/"
        },
        "id": "DZ5CCGHzTaQ7",
        "outputId": "de704702-f8a2-4ecb-9ca9-9a9ca4a4a589"
      },
      "execution_count": null,
      "outputs": [
        {
          "output_type": "execute_result",
          "data": {
            "text/plain": [
              "array([[ 56.,  -4., -29.],\n",
              "       [ -4.,  71., -14.],\n",
              "       [-29., -14.,  46.]])"
            ]
          },
          "metadata": {},
          "execution_count": 9
        }
      ]
    },
    {
      "cell_type": "code",
      "source": [
        "# matriz é POSITIVA DEFINIDA QUANDO RODA, SE DER ERRO NAO É POSITIVA DEFINIDA\n",
        "cholesky(D)"
      ],
      "metadata": {
        "colab": {
          "base_uri": "https://localhost:8080/"
        },
        "id": "-eShdT9JTiVr",
        "outputId": "71e817ec-acd8-4ad2-813e-8bed6a0d655c"
      },
      "execution_count": null,
      "outputs": [
        {
          "output_type": "execute_result",
          "data": {
            "text/plain": [
              "array([[ 7.48331477,  0.        ,  0.        ],\n",
              "       [-0.53452248,  8.40917866,  0.        ],\n",
              "       [-3.87528801, -1.91117697,  5.22776678]])"
            ]
          },
          "metadata": {},
          "execution_count": 10
        }
      ]
    },
    {
      "cell_type": "code",
      "source": [
        "%matplotlib inline"
      ],
      "metadata": {
        "id": "PdgcPEcqVnEz"
      },
      "execution_count": null,
      "outputs": []
    },
    {
      "cell_type": "code",
      "source": [
        "import numpy as np\n",
        "import matplotlib.pyplot as plt"
      ],
      "metadata": {
        "id": "wc8NnN6_VoHn"
      },
      "execution_count": null,
      "outputs": []
    },
    {
      "cell_type": "code",
      "source": [
        "# Funções Implementadas\n",
        "\n",
        "def gauss_simples(AB):\n",
        "    '''Realiza o cálculo de um sistema linear através do método de eliminação de Gauss sem pivotamento.\n",
        "\n",
        "    Sinopse:\n",
        "         X = gauss_simples(AB)\n",
        "\n",
        "    Entradas:\n",
        "         AB - Matriz aumentada (np.array) do sistema linear\n",
        "\n",
        "    Saídas:\n",
        "         X - Vetor solução do sistema linear\n",
        "\n",
        "         @ney\n",
        "    '''\n",
        "\n",
        "    # Eliminação progressiva de variáveis\n",
        "    for i in range(len(AB)):\n",
        "        for j in range(len(AB)):\n",
        "            if (j > i):\n",
        "                m = AB[j,i]/AB[i,i] # Fator multiplicador\n",
        "                AB[j,:] -= m*AB[i,:] # Eliminação de variável\n",
        "\n",
        "    # Substituição regressiva\n",
        "    A = AB[:,0:-1]\n",
        "    B = AB[:,-1]\n",
        "    X = np.zeros((len(AB),1))\n",
        "\n",
        "    for i in range(len(A)-1, -1, -1):\n",
        "        for j in range(len(A)):\n",
        "            X[i] -= A[i,j]*X[j]\n",
        "        X[i] += B[i]\n",
        "        X[i] /= A[i,i]\n",
        "\n",
        "    X = np.around(X, decimals=3)\n",
        "\n",
        "    return X\n",
        "\n",
        "def gauss_pivparc(AB):\n",
        "    '''Realiza o cálculo de um sistema linear através do método de eliminação de Gauss com pivotamento parcial.\n",
        "\n",
        "    Sinopse:\n",
        "         X = gauss_pivparc(AB)\n",
        "\n",
        "    Entradas:\n",
        "         AB - Matriz aumentada (np.array) do sistema linear\n",
        "\n",
        "    Saídas:\n",
        "         X - Vetor solução do sistema linear\n",
        "\n",
        "         @ney\n",
        "    '''\n",
        "\n",
        "    # Eliminação progressiva de variáveis\n",
        "    for i in range(len(AB)):\n",
        "        if (i < len(AB)): # Pivotamento parcial\n",
        "            AB_new = np.flip(AB[i:, i:], 0)\n",
        "            AB[i:, i:] = AB_new\n",
        "        for j in range(len(AB)):\n",
        "            if (j > i):\n",
        "                m = AB[j,i]/AB[i,i] # Fator multiplicador\n",
        "                AB[j,:] -= m*AB[i,:] # Eliminação de variável\n",
        "\n",
        "    # Substituição regressiva\n",
        "    A = AB[:,0:-1]\n",
        "    B = AB[:,-1]\n",
        "    X = np.zeros((len(AB),1))\n",
        "\n",
        "    for i in range(len(A)-1, -1, -1):\n",
        "        for j in range(len(A)):\n",
        "            X[i] -= A[i,j]*X[j]\n",
        "        X[i] += B[i]\n",
        "        X[i] /= A[i,i]\n",
        "\n",
        "    X = np.around(X, decimals=3)\n",
        "\n",
        "    return X\n",
        "\n",
        "def gaussjordan(AB):\n",
        "    '''Realiza o cálculo de um sistema linear através do método de eliminação de Gauss-Jordan simples.\n",
        "\n",
        "    Sinopse:\n",
        "         X = gaussjordan(AB)\n",
        "\n",
        "    Entradas:\n",
        "         AB - Matriz aumentada (np.array) do sistema linear\n",
        "\n",
        "    Saídas:\n",
        "         X - Vetor solução do sistema linear\n",
        "\n",
        "         @ney\n",
        "    '''\n",
        "\n",
        "    for i in range(len(AB)):\n",
        "        AB[i,:] /= AB[i,i]\n",
        "        for j in range(len(AB)):\n",
        "            if (j != i):\n",
        "                AB[j,:] -= AB[j,i]*AB[i,:]\n",
        "\n",
        "    AB = np.around(AB, decimals=3)\n",
        "\n",
        "    return AB[:,-1]\n",
        "\n",
        "def lu_solver(AB):\n",
        "    '''Realiza o cálculo de um sistema linear através do método de decomposição LU.\n",
        "\n",
        "    Sinopse:\n",
        "         L, U, X = lu_solver(AB)\n",
        "\n",
        "    Entradas:\n",
        "         AB - Matriz aumentada (np.array) do sistema linear\n",
        "\n",
        "    Saídas:\n",
        "         L (lu[0]) - Matriz triangular inferior\n",
        "         U (lu[1]) - Matriz triangular superior\n",
        "         X (lu[2]) - Vetor solução do sistema linear\n",
        "\n",
        "         @ney\n",
        "    '''\n",
        "\n",
        "    # Decomposição LU\n",
        "    U = np.copy(AB)\n",
        "    U = U[:,0:-1]\n",
        "    L = np.zeros((len(AB),len(AB)))\n",
        "\n",
        "    for i in range(len(AB)):\n",
        "        for j in range(len(AB)):\n",
        "            if (j > i):\n",
        "                m = U[j,i]/U[i,i]\n",
        "                U[j,:] -= m*U[i,:]\n",
        "                L[j,i] = m\n",
        "            elif (j == i):\n",
        "                L[i,i] = 1\n",
        "\n",
        "    # Substituição progressiva\n",
        "    B = np.copy(AB)\n",
        "    B = B[:,-1]\n",
        "    D = np.zeros((len(AB),1))\n",
        "\n",
        "    for i in range(len(L)):\n",
        "        for j in range(len(L)):\n",
        "            if (i > j):\n",
        "                D[i] -= L[i,j]*D[j]\n",
        "        D[i] += B[i]\n",
        "\n",
        "    # Substituição regressiva\n",
        "    X = np.zeros((len(AB),1))\n",
        "\n",
        "    for i in range(len(U)-1, -1, -1):\n",
        "        for j in range(len(U)):\n",
        "            X[i] -= U[i,j]*X[j]\n",
        "        X[i] += D[i]\n",
        "        X[i] /= U[i,i]\n",
        "\n",
        "    L = np.around(L, decimals=3)\n",
        "    U = np.around(U, decimals=3)\n",
        "    X = np.around(X, decimals=3)\n",
        "\n",
        "    return (L, U, X)\n",
        "\n",
        "def cholesky(AB):\n",
        "    '''Realiza o cálculo de um sistema linear através do método LU, por decomposição de Cholesky.\n",
        "\n",
        "    Sinopse:\n",
        "         C = cholesky(AB)\n",
        "\n",
        "    Entradas:\n",
        "         AB - Matriz aumentada (np.array) do sistema linear\n",
        "\n",
        "    Saídas:\n",
        "         G (C[0]) - Matriz triangular inferior\n",
        "         X (C[1]) - Vetor solução do sistema linear\n",
        "\n",
        "         @ney\n",
        "    '''\n",
        "\n",
        "    # Decomposição de Cholesky\n",
        "    A = np.copy(AB)\n",
        "    A = A[:,0:-1]\n",
        "    G = np.zeros((len(A),len(A)))\n",
        "\n",
        "    for k in range(len(A)):\n",
        "        for i in range(k):\n",
        "            s1 = 0\n",
        "            for j in range(i):\n",
        "                s1 += G[i,j]*G[k,j]\n",
        "            G[k,i] = (A[k,i] - s1)/G[i,i]\n",
        "        s2 = 0\n",
        "        for j in range(k):\n",
        "            s2 += (G[k,j])**2\n",
        "        G[k,k] = np.sqrt(A[k,k] - s2)\n",
        "\n",
        "    # Substituição progressiva\n",
        "    B = np.copy(AB)\n",
        "    B = B[:,-1]\n",
        "    D = np.zeros((len(AB),1))\n",
        "\n",
        "    for i in range(len(G)):\n",
        "        for j in range(len(G)):\n",
        "            if (i > j):\n",
        "                D[i] -= G[i,j]*D[j]\n",
        "        D[i] += B[i]\n",
        "        D[i] /= G[i,i]\n",
        "\n",
        "    # Substituição regressiva\n",
        "    GT = G.transpose()\n",
        "    X = np.zeros((len(AB),1))\n",
        "\n",
        "    for i in range(len(GT)-1, -1, -1):\n",
        "        for j in range(len(GT)):\n",
        "            X[i] -= GT[i,j]*X[j]\n",
        "        X[i] += D[i]\n",
        "        X[i] /= GT[i,i]\n",
        "\n",
        "    G = np.around(G, decimals=3)\n",
        "    X = np.around(X, decimals=3)\n",
        "\n",
        "    return G,X"
      ],
      "metadata": {
        "id": "z1Bg-m8FVog5"
      },
      "execution_count": null,
      "outputs": []
    },
    {
      "cell_type": "code",
      "source": [
        "import numpy as np\n",
        "import sympy as sy\n",
        "import matplotlib.pyplot as plt"
      ],
      "metadata": {
        "id": "fk57IMMVWkVT"
      },
      "execution_count": null,
      "outputs": []
    },
    {
      "cell_type": "code",
      "source": [
        "# Funções Implementadas\n",
        "\n",
        "# Solução de Sistemas\n",
        "\n",
        "def gaussjacobi(AB,ER,X0):\n",
        "    '''Realiza o cálculo de um sistema linear através do método de iterativo de Gauss-Jacobi.\n",
        "\n",
        "    Sinopse:\n",
        "         X = gaussjacobi(AB,ER,X0)\n",
        "\n",
        "    Entradas:\n",
        "         AB - Matriz aumentada (np.array) do sistema linear\n",
        "         ER - Erro relativo (forma decimal) entre a iteração i e a iteração i-1\n",
        "         X0 - Vetor estimativa inicial da solução\n",
        "\n",
        "    Saídas:\n",
        "         X - Vetor solução do sistema linear\n",
        "\n",
        "         @ney\n",
        "    '''\n",
        "\n",
        "    A = AB[:,0:-1]\n",
        "    B = AB[:,-1]\n",
        "    X = X0\n",
        "    erro = 1\n",
        "    interacoes = 0\n",
        "\n",
        "    while (erro > ER):\n",
        "        Xp = np.copy(X)\n",
        "        for i in range(len(A)):\n",
        "            s = 0\n",
        "            for j in range(len(A)):\n",
        "                if (i != j):\n",
        "                    s += A[i,j]*Xp[j]\n",
        "            X[i] = (B[i] - s)/A[i,i]\n",
        "        EA = np.absolute(X - Xp)\n",
        "        Emax = np.amax(EA)\n",
        "        idx = np.where(EA == Emax)\n",
        "\n",
        "        if (len(idx[0]) > 1):\n",
        "            erro = np.absolute(EA[idx[0][0]]/X[idx[0][0]])\n",
        "        else:\n",
        "            erro = np.absolute(EA[idx[0]]/X[idx[0]])\n",
        "        interacoes+=1\n",
        "\n",
        "    X = np.around(X, decimals=3)\n",
        "\n",
        "    return X\n",
        "\n",
        "def gaussseidel(AB,ER,X0):\n",
        "    ''' Função que realiza o cálculo de um sistema linear através do método de iterativo de Gauss-Seidel.\n",
        "\n",
        "    Sinopse:\n",
        "         X = gaussseidel(AB,ER,X0)\n",
        "\n",
        "    Entradas:\n",
        "         AB - Matriz aumentada (np.array) do sistema linear\n",
        "         ER - Erro relativo (forma decimal) entre a iteração i e a iteração i-1\n",
        "         X0 - Vetor estimativa inicial da solução\n",
        "\n",
        "    Saídas:\n",
        "         X - Vetor solução do sistema linear\n",
        "\n",
        "         @ney\n",
        "    '''\n",
        "\n",
        "    A = AB[:,0:-1]\n",
        "    B = AB[:,-1]\n",
        "    X = X0\n",
        "    erro = 1\n",
        "    interacoes = 0\n",
        "\n",
        "    while (erro > ER):\n",
        "        Xp = np.copy(X)\n",
        "        for i in range(len(A)):\n",
        "            s = 0\n",
        "            for j in range(len(A)):\n",
        "                if (i != j):\n",
        "                    s += A[i,j]*X[j]\n",
        "            X[i] = (B[i] - s)/A[i,i]\n",
        "        EA = np.absolute(X - Xp)\n",
        "        Emax = np.amax(EA)\n",
        "        idx = np.where(EA == Emax)\n",
        "\n",
        "        if (len(idx[0]) > 1):\n",
        "            erro = np.absolute(EA[idx[0][0]]/X[idx[0][0]])\n",
        "        else:\n",
        "            erro = np.absolute(EA[idx[0]]/X[idx[0]])\n",
        "        interacoes+=1\n",
        "\n",
        "    X = np.around(X, decimals=3)\n",
        "\n",
        "    return X\n",
        "\n",
        "def jacobian(F,Xs):\n",
        "    '''Função que realiza o cálculo da matriz jacobiana.\n",
        "\n",
        "    Sinopse:\n",
        "         J = jacobian(F,Xs)\n",
        "\n",
        "    Entradas:\n",
        "         F - Vetor contendo as equações (simbólicas) do sistema não-linear\n",
        "         Xs - Vetor contendo as variáveis (simbólicas) do sistema não-linear\n",
        "\n",
        "    Saídas:\n",
        "         J - Matriz jacobiana (simbólica)\n",
        "\n",
        "         @ney\n",
        "    '''\n",
        "    J = sy.zeros(len(Xs), len(Xs))\n",
        "\n",
        "    for i in range(len(Xs)):\n",
        "        for j in range(len(Xs)):\n",
        "            J[i,j] = sy.diff(F[i],Xs[j])\n",
        "\n",
        "    return J\n",
        "\n",
        "def newtonnaolin(F,Xs,ER,X0):\n",
        "    '''Função que realiza o cálculo de um sistema não-linear através do método de iterativo de Newton.\n",
        "\n",
        "    Sinopse:\n",
        "         X = newtonnaolin(F,Xs,ER,X0)\n",
        "\n",
        "    Entradas:\n",
        "         F  - Vetor (sy.Matrix) contendo as equações (simbólicas) do sistema não-linear\n",
        "         Xs - Vetor (sy.Matrix) contendo as variáveis (simbólico) do sistema não linear\n",
        "         ER - Erro relativo (forma decimal) entre a iteração i e a iteração i-1\n",
        "         X0 - Vetor estimativa inicial da solução\n",
        "\n",
        "    Saídas:\n",
        "         X - Vetor solução do sistema linear\n",
        "\n",
        "         @ney\n",
        "    '''\n",
        "\n",
        "    J = jacobian(F,Xs)\n",
        "    erro = 1\n",
        "    X = np.copy(X0)\n",
        "\n",
        "    while (erro > ER):\n",
        "        Xp = np.copy(X)\n",
        "        A = J[:,:]\n",
        "        B = F[:,:]\n",
        "        subs = []\n",
        "\n",
        "        for i in range(len(Xs)):\n",
        "            subs.append((Xs[i],X[i]))\n",
        "\n",
        "        A = np.asarray(A.subs(subs), dtype=float)\n",
        "        B = np.asarray(B.subs(subs), dtype=float)\n",
        "        B *= -1\n",
        "\n",
        "        S = np.linalg.solve(A,B)\n",
        "        S = np.transpose(S)\n",
        "\n",
        "        X += S[0]\n",
        "\n",
        "        EA = np.absolute(X - Xp)\n",
        "        Emax = np.amax(EA)\n",
        "        idx = np.where(EA == Emax)\n",
        "\n",
        "        if (len(idx[0]) > 1):\n",
        "            erro = np.absolute(EA[idx[0][0]]/X[idx[0][0]])\n",
        "        else:\n",
        "            erro = np.absolute(EA[idx[0]]/X[idx[0]])\n",
        "\n",
        "    X = np.around(X, decimals=3)\n",
        "\n",
        "    return X\n",
        "\n",
        "# Interpolação\n",
        "\n",
        "def int_newton(X, Y, x0):\n",
        "    '''Função que realiza a interpolação de grau n de n+1 pontos dados, utilizando o método das diferenças divididas\n",
        "    de Newton.\n",
        "\n",
        "    Sinopse:\n",
        "         y0 = int_newton(X, Y, x0)\n",
        "\n",
        "    Entradas:\n",
        "         X - Array com as coordenadas em x para os pontos dados\n",
        "         Y - Array com as coordenadas em y para os pontos dados\n",
        "         x0 - Ponto ao qual se deseja a estimativa f(x0)\n",
        "\n",
        "    Saídas:\n",
        "         y0 - Estimativa desejada f(x0)\n",
        "\n",
        "         @ney\n",
        "    '''\n",
        "\n",
        "    n = len(X)\n",
        "    x = sy.symbols(\"x\")\n",
        "\n",
        "    dx = []\n",
        "    f = []\n",
        "    aux = np.diff(Y)\n",
        "\n",
        "    for i in range(1,n):\n",
        "        dx.append(X[i:] - X[:-i])\n",
        "        f.append(aux/dx[i-1]) # Diferenças Divididas\n",
        "        aux = np.diff(f[i-1])\n",
        "\n",
        "    b = []\n",
        "\n",
        "    for i in f:\n",
        "        b.append(i[0]) # Coeficientes do polinômio\n",
        "\n",
        "    f = Y[0]\n",
        "    aux = 1\n",
        "\n",
        "    for i in range(n-1):\n",
        "        aux *= x - X[i]\n",
        "        f += b[i]*aux # Polinômio\n",
        "\n",
        "    y0 = f.subs(x,x0) # Estimativa desejada\n",
        "\n",
        "    return float(y0)\n",
        "\n",
        "def int_lagrange(X, Y, x0):\n",
        "    '''Função que realiza a interpolação de grau n de n+1 pontos dados, utilizando o método de Lagrange.\n",
        "\n",
        "    Sinopse:\n",
        "         y0 = int_lagrange(X, Y, x0)\n",
        "\n",
        "    Entradas:\n",
        "         X - Vetor com as coordenadas em x para pontos dados\n",
        "         Y - Vetor com as coordenadas em y para pontos dados\n",
        "         x0 - Ponto ao qual se deseja a estimativa f(x0)\n",
        "\n",
        "    Saídas:\n",
        "         y0 - Estimativa desejada f(x0)\n",
        "\n",
        "         @ney\n",
        "    '''\n",
        "\n",
        "    n = len(X)\n",
        "    x = sy.symbols(\"x\")\n",
        "    f = 0\n",
        "\n",
        "    for i in range(n):\n",
        "        L = 1\n",
        "        for j in range(n):\n",
        "            if (i != j):\n",
        "                L *= (x - X[j])/(X[i] - X[j])\n",
        "        f += L*Y[i] # Polinômio\n",
        "\n",
        "    y0 = f.subs(x,x0) # Estimativa desejada\n",
        "\n",
        "    return float(y0)"
      ],
      "metadata": {
        "id": "PmW2s7N8WkzU"
      },
      "execution_count": null,
      "outputs": []
    },
    {
      "cell_type": "markdown",
      "source": [
        "![image.png](data:image/png;base64,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)"
      ],
      "metadata": {
        "id": "_Dx2YkfBV-Gu"
      }
    },
    {
      "cell_type": "code",
      "source": [
        "# Solução\n",
        "\n",
        "A = np.array([[0, 2, 6], [1, 0, 1], [1, 5, 0]])\n",
        "AT = A.transpose()\n",
        "B = np.dot(A,AT)\n",
        "\n",
        "print(\"A matriz dos coeficientes desse sistema é: \\n\\n\", A)\n",
        "print(\"\\nA sua transposta é: \\n\\n\", AT)\n",
        "print(\"\\nLogo, o produto entre A e sua transposta é: \\n\\n\", B)"
      ],
      "metadata": {
        "colab": {
          "base_uri": "https://localhost:8080/"
        },
        "id": "4jKFJ7ngV94l",
        "outputId": "d3e63df4-c8ac-4336-aa81-2715a60f300d"
      },
      "execution_count": null,
      "outputs": [
        {
          "output_type": "stream",
          "name": "stdout",
          "text": [
            "A matriz dos coeficientes desse sistema é: \n",
            "\n",
            " [[0 2 6]\n",
            " [1 0 1]\n",
            " [1 5 0]]\n",
            "\n",
            "A sua transposta é: \n",
            "\n",
            " [[0 1 1]\n",
            " [2 0 5]\n",
            " [6 1 0]]\n",
            "\n",
            "Logo, o produto entre A e sua transposta é: \n",
            "\n",
            " [[40  6 10]\n",
            " [ 6  2  1]\n",
            " [10  1 26]]\n"
          ]
        }
      ]
    },
    {
      "cell_type": "code",
      "source": [
        "#determinante\n",
        "A = np.array([[0, 2, 5], [2, 1, 1], [3, 1, 0]])\n",
        "det = np.linalg.det(A)\n",
        "print(\"(i) det(A) = \", det)"
      ],
      "metadata": {
        "colab": {
          "base_uri": "https://localhost:8080/"
        },
        "id": "beWbCRxhVqea",
        "outputId": "92ac949f-28ea-4487-efa7-c33beeb5aab2"
      },
      "execution_count": null,
      "outputs": [
        {
          "output_type": "stream",
          "name": "stdout",
          "text": [
            "(i) det(A) =  0.9999999999999991\n"
          ]
        }
      ]
    },
    {
      "cell_type": "code",
      "source": [
        "\n",
        "AB = np.array([[10., 2., -1., 27], [-3., -6., 2., 61.5], [1., 5., 5., -21.5]])\n",
        "gauss_simples(AB)"
      ],
      "metadata": {
        "colab": {
          "base_uri": "https://localhost:8080/"
        },
        "id": "rY9Pqu8zc8Aj",
        "outputId": "35b89913-031b-4c13-b937-c12849ec709c"
      },
      "execution_count": null,
      "outputs": [
        {
          "output_type": "execute_result",
          "data": {
            "text/plain": [
              "array([[  5.489],\n",
              "       [-11.095],\n",
              "       [  5.697]])"
            ]
          },
          "metadata": {},
          "execution_count": 20
        }
      ]
    },
    {
      "cell_type": "code",
      "source": [
        "AB = np.array([[8., 2., -2., -2], [10., 2., -4., 4], [12., 2., 2., 6]])\n",
        "gauss_pivparc(AB)"
      ],
      "metadata": {
        "colab": {
          "base_uri": "https://localhost:8080/"
        },
        "id": "T-wk3TykdKL0",
        "outputId": "0764866e-5f0e-42ab-84af-f72df9daa685"
      },
      "execution_count": null,
      "outputs": [
        {
          "output_type": "execute_result",
          "data": {
            "text/plain": [
              "array([[  2.5],\n",
              "       [-11.5],\n",
              "       [ -0.5]])"
            ]
          },
          "metadata": {},
          "execution_count": 21
        }
      ]
    },
    {
      "cell_type": "code",
      "source": [
        "AB = np.array([[2., 1., -1., 1], [5., 2., 2., -4], [3., 1., 1., 5]])\n",
        "gaussjordan(AB)"
      ],
      "metadata": {
        "colab": {
          "base_uri": "https://localhost:8080/"
        },
        "id": "QMY-b0o3dxrK",
        "outputId": "2e514c70-3378-40da-d428-80b7681162b5"
      },
      "execution_count": null,
      "outputs": [
        {
          "output_type": "execute_result",
          "data": {
            "text/plain": [
              "array([ 14., -32.,  -5.])"
            ]
          },
          "metadata": {},
          "execution_count": 22
        }
      ]
    },
    {
      "cell_type": "markdown",
      "source": [
        "##Fatoração LU"
      ],
      "metadata": {
        "id": "3tf_HnmugtLV"
      }
    },
    {
      "cell_type": "code",
      "source": [
        "AB = np.array([[8., 4., -1., 11.], [-2., 5., 1., 4.], [2., -1., 6., 7.]])\n",
        "\n",
        "L, U, X = lu_solver(AB)\n",
        "\n",
        "A = np.copy(AB)\n",
        "A = A[:,0:-1] #tira a coluna de resultados - ultima coluna\n",
        "\n",
        "#Solução\n",
        "AB = np.array([[8., 4., -1., 11.], [-2., 5., 1., 4.], [2., -1., 6., 7.]])\n",
        "\n",
        "print(\"A solução do sistema é: \\n\", X)\n",
        "print(\"\\nA inversa de A é: \\n\", np.around(np.linalg.inv(A), decimals=3))\n",
        "print(\"\\nO produto entre as inversas de U e L é: \\n\", np.around(np.dot(np.linalg.inv(U),np.linalg.inv(L)), decimals=3))\n",
        "print(\"\\nO produto entre A e sua inversa é: \\n\", np.around(np.dot(A,np.linalg.inv(A))))"
      ],
      "metadata": {
        "colab": {
          "base_uri": "https://localhost:8080/"
        },
        "id": "xd4gNlKQfVsi",
        "outputId": "5ea4e83d-252a-40ec-f09b-e6f4b6690c73"
      },
      "execution_count": null,
      "outputs": [
        {
          "output_type": "stream",
          "name": "stdout",
          "text": [
            "A solução do sistema é: \n",
            " [[1.]\n",
            " [1.]\n",
            " [1.]]\n",
            "\n",
            "A inversa de A é: \n",
            " [[ 0.099 -0.074  0.029]\n",
            " [ 0.045  0.16  -0.019]\n",
            " [-0.026  0.051  0.154]]\n",
            "\n",
            "O produto entre as inversas de U e L é: \n",
            " [[ 0.099 -0.074  0.029]\n",
            " [ 0.045  0.16  -0.019]\n",
            " [-0.026  0.051  0.154]]\n",
            "\n",
            "O produto entre A e sua inversa é: \n",
            " [[ 1.  0.  0.]\n",
            " [-0.  1.  0.]\n",
            " [-0.  0.  1.]]\n"
          ]
        }
      ]
    },
    {
      "cell_type": "markdown",
      "source": [
        " ## matriz  simétrica, matriz singular, diagonalmente dominantes positivas-definidas"
      ],
      "metadata": {
        "id": "MBU7PdpVjUyH"
      }
    },
    {
      "cell_type": "code",
      "source": [
        "import numpy as np\n",
        "\n",
        "A = np.array([[2., 1.], [1., 3.]])\n",
        "B = np.array([[2., 1., 0.], [0., 3., 0.], [1., 0., 4.]])\n",
        "C = np.array([[4., 2., 6.], [3., 0., 7.], [-2., -1., -3.]])\n",
        "D = np.array([[4., 0., 0., 0.], [6., 7., 0., 0.], [9., 11., 1., 0.], [5., 4., 1., 1.]])\n",
        "\n",
        "def is_symmetric(matrix):\n",
        "    return np.allclose(matrix, matrix.T)\n",
        "\n",
        "def is_singular(matrix):\n",
        "    return any(np.linalg.det(matrix[0:i, 0:i]) == 0 for i in range(1, len(matrix) + 1))\n",
        "\n",
        "def is_diagonally_dominant(matrix):\n",
        "    for i in range(len(matrix)):\n",
        "        if abs(matrix[i,i]) <= np.sum(np.abs(matrix[i])) - abs(matrix[i,i]):\n",
        "            return False\n",
        "    return True\n",
        "\n",
        "def is_positive_definite(matrix):\n",
        "    return all(np.linalg.det(matrix[0:i, 0:i]) > 0 for i in range(1, len(matrix) + 1))\n",
        "\n",
        "# Verificações para A\n",
        "print(\"Matriz (a):\")\n",
        "print(\"Simétrica:\", is_symmetric(A))\n",
        "print(\"Singular:\", is_singular(A))\n",
        "print(\"Diagonalmente dominante:\", is_diagonally_dominant(A))\n",
        "print(\"Positiva-definida:\", is_positive_definite(A))\n",
        "\n",
        "# Verificações para B\n",
        "print(\"\\nMatriz (b):\")\n",
        "print(\"Simétrica:\", is_symmetric(B))\n",
        "print(\"Singular:\", is_singular(B))\n",
        "print(\"Diagonalmente dominante:\", is_diagonally_dominant(B))\n",
        "print(\"Positiva-definida:\", is_positive_definite(B))\n",
        "\n",
        "# Verificações para C\n",
        "print(\"\\nMatriz (c):\")\n",
        "print(\"Simétrica:\", is_symmetric(C))\n",
        "print(\"Singular:\", is_singular(C))\n",
        "print(\"Diagonalmente dominante:\", is_diagonally_dominant(C))\n",
        "print(\"Positiva-definida:\", is_positive_definite(C))\n",
        "\n",
        "# Verificações para D\n",
        "print(\"\\nMatriz (d):\")\n",
        "print(\"Simétrica:\", is_symmetric(D))\n",
        "print(\"Singular:\", is_singular(D))\n",
        "print(\"Diagonalmente dominante:\", is_diagonally_dominant(D))\n",
        "print(\"Positiva-definida:\", is_positive_definite(D))\n"
      ],
      "metadata": {
        "colab": {
          "base_uri": "https://localhost:8080/"
        },
        "id": "hPG1LQ7di5Ep",
        "outputId": "da947a09-7f67-4b3b-d3df-39c080719241"
      },
      "execution_count": null,
      "outputs": [
        {
          "output_type": "stream",
          "name": "stdout",
          "text": [
            "Matriz (a):\n",
            "Simétrica: True\n",
            "Singular: False\n",
            "Diagonalmente dominante: True\n",
            "Positiva-definida: True\n",
            "\n",
            "Matriz (b):\n",
            "Simétrica: False\n",
            "Singular: False\n",
            "Diagonalmente dominante: True\n",
            "Positiva-definida: True\n",
            "\n",
            "Matriz (c):\n",
            "Simétrica: False\n",
            "Singular: True\n",
            "Diagonalmente dominante: False\n",
            "Positiva-definida: False\n",
            "\n",
            "Matriz (d):\n",
            "Simétrica: False\n",
            "Singular: False\n",
            "Diagonalmente dominante: False\n",
            "Positiva-definida: True\n"
          ]
        }
      ]
    },
    {
      "cell_type": "markdown",
      "source": [
        "##CHOSLESKY"
      ],
      "metadata": {
        "id": "imO-cPuJmE-Q"
      }
    },
    {
      "cell_type": "code",
      "source": [
        "B = np.array([[4., 1., 1., 1.], [1., 3., -1., 1.], [1., -1., 2., 0.], [1., 1., 0., 2.]])\n",
        "G, X = cholesky(B)\n",
        "G\n",
        "\n",
        "#SEM SER AUMENTADA TEM QUE COMENTAR A LINHA QUE TIRA A ULTIMA COLUNA NA FUNCAO\n",
        "#FATORAÇAO DE CHOLESKY\n"
      ],
      "metadata": {
        "colab": {
          "base_uri": "https://localhost:8080/"
        },
        "id": "PU9yJcRbj6pM",
        "outputId": "92e64ede-74b0-44b3-d34f-3803f0688663"
      },
      "execution_count": null,
      "outputs": [
        {
          "output_type": "execute_result",
          "data": {
            "text/plain": [
              "array([[ 2.   ,  0.   ,  0.   ,  0.   ],\n",
              "       [ 0.5  ,  1.658,  0.   ,  0.   ],\n",
              "       [ 0.5  , -0.754,  1.087,  0.   ],\n",
              "       [ 0.5  ,  0.452,  0.084,  1.24 ]])"
            ]
          },
          "metadata": {},
          "execution_count": 37
        }
      ]
    },
    {
      "cell_type": "code",
      "source": [
        "AB = np.array([[8., 20., 15., 50.], [20., 80., 50., 250.], [15., 50., 60., 100.]])\n",
        "G, X = cholesky(AB)\n",
        "print(\"A solução do sistema é: \\n\", G)\n",
        "\n",
        "#decomposição de Cholesky"
      ],
      "metadata": {
        "id": "jA9oI_nekh8p"
      },
      "execution_count": null,
      "outputs": []
    },
    {
      "cell_type": "markdown",
      "source": [
        "##CONDICIONAL E GAUSS JACOBI E SEIDEL"
      ],
      "metadata": {
        "id": "xjhfVDzMmIUT"
      }
    },
    {
      "cell_type": "markdown",
      "source": [
        "![image.png](data:image/png;base64,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)"
      ],
      "metadata": {
        "id": "GyKS9shhmPlV"
      }
    },
    {
      "cell_type": "markdown",
      "source": [
        "![image.png](data:image/png;base64,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)"
      ],
      "metadata": {
        "id": "0XgXqYNNm1E0"
      }
    },
    {
      "cell_type": "code",
      "source": [
        "\n",
        "A = np.array([[2., -1.], [1., 2.]]) # MATRIZ NORMAL\n",
        "B = np.array([[1.], [3.]]) # RESULTADO\n",
        "X = np.array([[0.], [0.]])\n",
        "EA = 10**(-2)\n",
        "erro = 1\n",
        "\n",
        "while (erro > EA):\n",
        "    Xp = np.copy(X)\n",
        "    for i in range(len(A)):\n",
        "        s = 0\n",
        "        for j in range(len(A)):\n",
        "            if (i != j):\n",
        "                s += A[i,j]*Xp[j]\n",
        "        X[i] = (B[i] - s)/A[i,i]\n",
        "    erro = np.amax(np.absolute(X - Xp))\n",
        "\n",
        "X = np.around(X, decimals=3)\n",
        "\n",
        "print(\"(a)\\nO número C de condicionamento é:\", np.around(np.linalg.det(A), decimals=3)) #CONDICIONAL É O DETERMINANTE\n",
        "print(\"\\nA solução do problema é:\\n\", X)\n"
      ],
      "metadata": {
        "colab": {
          "base_uri": "https://localhost:8080/"
        },
        "id": "mEUWfGRsmMyc",
        "outputId": "5e13478e-ed28-46f8-8299-45ffa83f7c01"
      },
      "execution_count": null,
      "outputs": [
        {
          "output_type": "stream",
          "name": "stdout",
          "text": [
            "(a)\n",
            "O número C de condicionamento é: 5.0\n",
            "\n",
            "A solução do problema é:\n",
            " [[0.998]\n",
            " [1.002]]\n"
          ]
        }
      ]
    },
    {
      "cell_type": "code",
      "source": [
        "AB = np.array([[2., -1.,1.], [1., 2.,3.]]) #  MATRIZ COMPLETA\n",
        "\n",
        "gaussjacobi(AB,EA,np.zeros(len(AB)))\n"
      ],
      "metadata": {
        "colab": {
          "base_uri": "https://localhost:8080/"
        },
        "id": "SmCrUaJInKm5",
        "outputId": "83282a80-7b0b-4028-8b7e-82c5538a2758"
      },
      "execution_count": null,
      "outputs": [
        {
          "output_type": "execute_result",
          "data": {
            "text/plain": [
              "(array([0.998, 1.002]), 9)"
            ]
          },
          "metadata": {},
          "execution_count": 59
        }
      ]
    },
    {
      "cell_type": "code",
      "source": [
        "gaussseidel(AB,EA,np.zeros(len(AB)))\n",
        "\n",
        "#SE QUISER NUMERO DE INTERAÇOES SÓ ADD NO RETURN DA FUNCAO"
      ],
      "metadata": {
        "colab": {
          "base_uri": "https://localhost:8080/"
        },
        "id": "yw4jsg5CnMNH",
        "outputId": "334ef592-1fc5-494c-fb7d-ed5917a15fd0"
      },
      "execution_count": null,
      "outputs": [
        {
          "output_type": "execute_result",
          "data": {
            "text/plain": [
              "(array([0.998, 1.001]), 5)"
            ]
          },
          "metadata": {},
          "execution_count": 60
        }
      ]
    },
    {
      "cell_type": "markdown",
      "source": [
        "![image.png](data:image/png;base64,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)"
      ],
      "metadata": {
        "id": "rMGjZNqduAHz"
      }
    },
    {
      "cell_type": "code",
      "source": [
        "# Solução\n",
        "\n",
        "AB = np.array([[4., 3., 2., 960.], [1., 3., 1., 510.], [2., 1., 3., 610.]])\n",
        "ER = 1/100\n",
        "X0 = np.array([[0.], [0.], [0.]])\n",
        "\n",
        "X = gaussseidel(AB,ER,X0)\n",
        "X = np.transpose(np.rint(X))\n",
        "print(\"[T,R,C] =\", X[0])"
      ],
      "metadata": {
        "colab": {
          "base_uri": "https://localhost:8080/"
        },
        "id": "whzQT9z-qNpf",
        "outputId": "b53a665c-837d-42b4-d0c4-f7695f59f7f9"
      },
      "execution_count": null,
      "outputs": [
        {
          "output_type": "stream",
          "name": "stdout",
          "text": [
            "[T,R,C] = [120. 100.  90.]\n"
          ]
        }
      ]
    },
    {
      "cell_type": "markdown",
      "source": [
        "##Sistemas não-lineares NEWTON NAO LINEAR"
      ],
      "metadata": {
        "id": "ctWcW2TnuFRa"
      }
    },
    {
      "cell_type": "code",
      "source": [
        "x, y = sy.symbols(\"x, y\")\n",
        "Xs = sy.Matrix([x, y])\n",
        "ER = 1/100\n",
        "\n",
        "# (i)\n",
        "F = sy.Matrix([x**2 + y**2 - 2, x**2 - y**2 - 1])\n",
        "X0 = np.array([1.2, 0.7])\n",
        "X = newtonnaolin(F,Xs,ER,X0)\n",
        "print(\"(i) A solução do problema é:\", X)\n"
      ],
      "metadata": {
        "colab": {
          "base_uri": "https://localhost:8080/"
        },
        "id": "MYbrDdmNuHY6",
        "outputId": "cd019ed7-c6b7-412c-a46e-7ef8029f9f49"
      },
      "execution_count": null,
      "outputs": [
        {
          "output_type": "stream",
          "name": "stdout",
          "text": [
            "(i) A solução do problema é: [1.225 0.707]\n"
          ]
        }
      ]
    },
    {
      "cell_type": "code",
      "source": [],
      "metadata": {
        "id": "tgVQoyzqupTE"
      },
      "execution_count": null,
      "outputs": []
    }
  ]
}